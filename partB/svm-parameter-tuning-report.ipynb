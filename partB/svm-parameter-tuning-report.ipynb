{
 "cells": [
  {
   "cell_type": "code",
   "execution_count": 1,
   "id": "25083108",
   "metadata": {},
   "outputs": [
    {
     "name": "stdout",
     "output_type": "stream",
     "text": [
      "\u001b[33mDEPRECATION: Configuring installation scheme with distutils config files is deprecated and will no longer work in the near future. If you are using a Homebrew or Linuxbrew Python, please see discussion at https://github.com/Homebrew/homebrew-core/issues/76621\u001b[0m\u001b[33m\n",
      "\u001b[0mCollecting prettytable\n",
      "  Downloading prettytable-3.9.0-py3-none-any.whl.metadata (26 kB)\n",
      "Requirement already satisfied: wcwidth in /opt/homebrew/lib/python3.9/site-packages (from prettytable) (0.2.5)\n",
      "Downloading prettytable-3.9.0-py3-none-any.whl (27 kB)\n",
      "Installing collected packages: prettytable\n",
      "\u001b[33m  DEPRECATION: Configuring installation scheme with distutils config files is deprecated and will no longer work in the near future. If you are using a Homebrew or Linuxbrew Python, please see discussion at https://github.com/Homebrew/homebrew-core/issues/76621\u001b[0m\u001b[33m\n",
      "\u001b[0m\u001b[33mDEPRECATION: Configuring installation scheme with distutils config files is deprecated and will no longer work in the near future. If you are using a Homebrew or Linuxbrew Python, please see discussion at https://github.com/Homebrew/homebrew-core/issues/76621\u001b[0m\u001b[33m\n",
      "\u001b[0mSuccessfully installed prettytable-3.9.0\n",
      "\n",
      "\u001b[1m[\u001b[0m\u001b[34;49mnotice\u001b[0m\u001b[1;39;49m]\u001b[0m\u001b[39;49m A new release of pip is available: \u001b[0m\u001b[31;49m23.3.1\u001b[0m\u001b[39;49m -> \u001b[0m\u001b[32;49m23.3.2\u001b[0m\n",
      "\u001b[1m[\u001b[0m\u001b[34;49mnotice\u001b[0m\u001b[1;39;49m]\u001b[0m\u001b[39;49m To update, run: \u001b[0m\u001b[32;49mpython3.9 -m pip install --upgrade pip\u001b[0m\n",
      "Note: you may need to restart the kernel to use updated packages.\n"
     ]
    }
   ],
   "source": [
    "pip install prettytable\n"
   ]
  },
  {
   "cell_type": "code",
   "execution_count": 2,
   "id": "b46512dc",
   "metadata": {},
   "outputs": [
    {
     "name": "stdout",
     "output_type": "stream",
     "text": [
      "Top Three Combinations:\n",
      "+------+--------+----+-------+----------+\n",
      "| Rank | Kernel | C  | Gamma | Accuracy |\n",
      "+------+--------+----+-------+----------+\n",
      "|  1   |  rbf   | 10 | scale |  0.9838  |\n",
      "|  2   |  rbf   | 10 |  auto |  0.9838  |\n",
      "|  3   |  rbf   | 10 |  0.1  |  0.9826  |\n",
      "+------+--------+----+-------+----------+\n",
      "\n",
      "Bottom Three Combinations:\n",
      "+------+--------+-----+-------+----------+\n",
      "| Rank | Kernel |  C  | Gamma | Accuracy |\n",
      "+------+--------+-----+-------+----------+\n",
      "|  1   |  poly  | 0.1 | 0.001 |  0.4959  |\n",
      "|  2   |  poly  |  1  | 0.001 |  0.4959  |\n",
      "|  3   |  poly  |  10 | 0.001 |  0.4959  |\n",
      "+------+--------+-----+-------+----------+\n"
     ]
    }
   ],
   "source": [
    "from prettytable import PrettyTable\n",
    "\n",
    "# Top Three Combinations\n",
    "top_combinations = [\n",
    "    [\"1\", \"rbf\", \"10\", \"scale\", \"0.9838\"],\n",
    "    [\"2\", \"rbf\", \"10\", \"auto\", \"0.9838\"],\n",
    "    [\"3\", \"rbf\", \"10\", \"0.1\", \"0.9826\"]\n",
    "]\n",
    "\n",
    "# Bottom Three Combinations\n",
    "bottom_combinations = [\n",
    "    [\"1\", \"poly\", \"0.1\", \"0.001\", \"0.4959\"],\n",
    "    [\"2\", \"poly\", \"1\", \"0.001\", \"0.4959\"],\n",
    "    [\"3\", \"poly\", \"10\", \"0.001\", \"0.4959\"]\n",
    "]\n",
    "\n",
    "# Create tables\n",
    "top_table = PrettyTable()\n",
    "top_table.field_names = [\"Rank\", \"Kernel\", \"C\", \"Gamma\", \"Accuracy\"]\n",
    "top_table.add_rows(top_combinations)\n",
    "\n",
    "bottom_table = PrettyTable()\n",
    "bottom_table.field_names = [\"Rank\", \"Kernel\", \"C\", \"Gamma\", \"Accuracy\"]\n",
    "bottom_table.add_rows(bottom_combinations)\n",
    "\n",
    "# Display tables\n",
    "print(\"Top Three Combinations:\")\n",
    "print(top_table)\n",
    "\n",
    "print(\"\\nBottom Three Combinations:\")\n",
    "print(bottom_table)\n"
   ]
  },
  {
   "cell_type": "code",
   "execution_count": null,
   "id": "9468c5c5",
   "metadata": {},
   "outputs": [],
   "source": []
  }
 ],
 "metadata": {
  "kernelspec": {
   "display_name": "Python 3 (ipykernel)",
   "language": "python",
   "name": "python3"
  },
  "language_info": {
   "codemirror_mode": {
    "name": "ipython",
    "version": 3
   },
   "file_extension": ".py",
   "mimetype": "text/x-python",
   "name": "python",
   "nbconvert_exporter": "python",
   "pygments_lexer": "ipython3",
   "version": "3.9.18"
  }
 },
 "nbformat": 4,
 "nbformat_minor": 5
}

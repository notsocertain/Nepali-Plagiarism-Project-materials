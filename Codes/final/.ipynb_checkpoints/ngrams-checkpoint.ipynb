{
 "cells": [
  {
   "cell_type": "code",
   "execution_count": 1,
   "id": "791320de",
   "metadata": {},
   "outputs": [],
   "source": [
    "import pandas as pd\n",
    "import csv\n",
    "import nltk\n",
    "import numpy as np"
   ]
  },
  {
   "cell_type": "code",
   "execution_count": 2,
   "id": "ce7de24f",
   "metadata": {},
   "outputs": [],
   "source": [
    "from preprocess import NepaliTextProcessor\n",
    "from nltk import ngrams"
   ]
  },
  {
   "cell_type": "code",
   "execution_count": 3,
   "id": "d68bc152",
   "metadata": {},
   "outputs": [],
   "source": [
    "nepali_text_processor = NepaliTextProcessor()"
   ]
  },
  {
   "cell_type": "code",
   "execution_count": 25,
   "id": "c3f3bdd5",
   "metadata": {},
   "outputs": [],
   "source": [
    "text = \"कथाका संग्रहित कथाहरू।.\""
   ]
  },
  {
   "cell_type": "code",
   "execution_count": 76,
   "id": "61a847ef",
   "metadata": {},
   "outputs": [],
   "source": [
    "def preprocess(text):\n",
    "    # Tokenization\n",
    "    tokens = nepali_text_processor.tokenize(text)\n",
    "    print(tokens)\n",
    "    # Stemming\n",
    "    stems = [nepali_text_processor.stem(token) for token in tokens]\n",
    "    print(stems)\n",
    "    text = ' '.join(stems)\n",
    "    print(text)\n",
    "    stems=nepali_text_processor.tokenize(text)\n",
    "    return stems"
   ]
  },
  {
   "cell_type": "code",
   "execution_count": 77,
   "id": "44b08480",
   "metadata": {},
   "outputs": [],
   "source": [
    "def n_grams(text,n):\n",
    "    tokens=list(preprocess(text))\n",
    "    grams = list(ngrams(tokens, n))\n",
    "    return grams "
   ]
  },
  {
   "cell_type": "code",
   "execution_count": 28,
   "id": "723b6cd1",
   "metadata": {},
   "outputs": [
    {
     "name": "stdout",
     "output_type": "stream",
     "text": [
      "['कथाका', 'संग्रहित', 'कथाहरू']\n",
      "['कथा', 'संग्रहित', 'कथा']\n"
     ]
    },
    {
     "data": {
      "text/plain": [
       "['कथा', 'संग्रहित', 'कथा']"
      ]
     },
     "execution_count": 28,
     "metadata": {},
     "output_type": "execute_result"
    }
   ],
   "source": [
    "preprocess(text)"
   ]
  },
  {
   "cell_type": "code",
   "execution_count": 31,
   "id": "9a2c5b01",
   "metadata": {},
   "outputs": [
    {
     "name": "stdout",
     "output_type": "stream",
     "text": [
      "['कथाका', 'संग्रहित', 'कथाहरू']\n",
      "['कथा', 'संग्रहित', 'कथा']\n",
      "[('कथा', 'संग्रहित', 'कथा')]\n"
     ]
    }
   ],
   "source": [
    "print(n_grams(text,3))"
   ]
  },
  {
   "cell_type": "code",
   "execution_count": 23,
   "id": "096970e8",
   "metadata": {},
   "outputs": [],
   "source": [
    "def calculate_similarity(text1,text2,n):\n",
    "    grams1=n_grams(text1,n)\n",
    "    grams2=n_grams(text2,n)\n",
    "    # Convert the bigrams lists to sets\n",
    "    set1 = set(grams1)\n",
    "    set2 = set(grams2)\n",
    "    #display similar n_grams\n",
    "    #similar_ngrams = set1.intersection(set2)\n",
    "    #print(\"Similar n-grams: \", similar_ngrams)\n",
    "\n",
    "    # Calculate the Jaccard similarity\n",
    "    jaccard_similarity = len(set1.intersection(set2)) / len(set1.union(set2))\n",
    "    return jaccard_similarity"
   ]
  },
  {
   "cell_type": "code",
   "execution_count": 8,
   "id": "3258f122",
   "metadata": {},
   "outputs": [],
   "source": [
    "text1=\"उपरोक्त विषयका सम्बन्धमा थापाथली क्याम्पसको १३ गते बडादसैंक\"\n",
    "text2=\"उपरोक्त विषयका सम्बन्धमा थापाथली क्याम्पसको असोज \""
   ]
  },
  {
   "cell_type": "code",
   "execution_count": 9,
   "id": "010a121f",
   "metadata": {},
   "outputs": [
    {
     "name": "stdout",
     "output_type": "stream",
     "text": [
      "57.14285714285714\n"
     ]
    }
   ],
   "source": [
    "similarity_score=calculate_similarity(text1,text2,2)\n",
    "print(similarity_score*100)"
   ]
  },
  {
   "cell_type": "markdown",
   "id": "b2cae398",
   "metadata": {},
   "source": [
    "# Szymkiewicz–Simpson coefficient, is defined as the size of the intersection of set A and set B over the size of the smaller set between A and B."
   ]
  },
  {
   "cell_type": "code",
   "execution_count": 33,
   "id": "b9e2279c",
   "metadata": {},
   "outputs": [],
   "source": [
    "def extended_jaccard_similarity(text1, text2,n):\n",
    "    grams1=n_grams(text1,n)\n",
    "    grams2=n_grams(text2,n)\n",
    "    # Convert the bigrams lists to sets\n",
    "    set1 = set(grams1)\n",
    "    set2 = set(grams2)\n",
    "    A = set(set1)\n",
    "    B = set(set2)\n",
    "    numerator = len(A.intersection(B))\n",
    "    min_len = min(len(A), len(B))\n",
    "    jaccard_similarity = numerator/min_len\n",
    "    return jaccard_similarity\n"
   ]
  },
  {
   "cell_type": "code",
   "execution_count": 34,
   "id": "01909703",
   "metadata": {
    "scrolled": true
   },
   "outputs": [
    {
     "name": "stdout",
     "output_type": "stream",
     "text": [
      "['एक', 'वृद्ध', 'मानिस', 'रेस्टुरेन्टमा', 'सुन्तलाको', 'जुस', 'पिइरहेका', 'छन्']\n",
      "['एक', 'वृद्ध', 'मानिस', 'रेस्टुरेन्ट', 'सुन्तला', 'जुस', 'पिइरह', '']\n",
      "['एकजना', 'मानिस', 'जुस', 'पिइरहेका', 'छन्']\n",
      "['एकजना', 'मानिस', 'जुस', 'पिइरह', '']\n"
     ]
    }
   ],
   "source": [
    "similarity_score=extended_jaccard_similarity(text1,text2,2)\n",
    "#print(similarity_score*100)"
   ]
  },
  {
   "cell_type": "code",
   "execution_count": 16,
   "id": "b1adb6d0",
   "metadata": {},
   "outputs": [
    {
     "name": "stdout",
     "output_type": "stream",
     "text": [
      "0.5\n"
     ]
    }
   ],
   "source": [
    "print(similarity_score)"
   ]
  },
  {
   "cell_type": "code",
   "execution_count": 78,
   "id": "1566f4d6",
   "metadata": {},
   "outputs": [],
   "source": [
    "text1=\"आफू अहिले एक वृद्ध मानिस रेस्टुरेन्टमा सुन्तलाको जुस पिइरहेका छन्।\"\n",
    "text2=\"एकजना मानिस जुस पिइरहेका छन्।,.\""
   ]
  },
  {
   "cell_type": "code",
   "execution_count": 1,
   "id": "9c07c17b",
   "metadata": {},
   "outputs": [],
   "source": [
    "text1=\"पार्टीहरूमा अन्य संस्कृतिहरू कसरी व्यवहार गरिन्छ भन्ने बारे अमेरिकी संस्कृति देखाउन स्कूलले विशेष कार्यक्रम गरिरहेको छ।\"\n",
    "text2=\"एउटा विद्यालयले कार्यक्रम आयोजना गर्दैछ।\""
   ]
  },
  {
   "cell_type": "code",
   "execution_count": null,
   "id": "d06c62db",
   "metadata": {},
   "outputs": [],
   "source": []
  }
 ],
 "metadata": {
  "kernelspec": {
   "display_name": "Python 3 (ipykernel)",
   "language": "python",
   "name": "python3"
  },
  "language_info": {
   "codemirror_mode": {
    "name": "ipython",
    "version": 3
   },
   "file_extension": ".py",
   "mimetype": "text/x-python",
   "name": "python",
   "nbconvert_exporter": "python",
   "pygments_lexer": "ipython3",
   "version": "3.9.13"
  }
 },
 "nbformat": 4,
 "nbformat_minor": 5
}

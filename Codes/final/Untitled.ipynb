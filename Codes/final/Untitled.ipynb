{
 "cells": [
  {
   "cell_type": "code",
   "execution_count": 38,
   "id": "2d9c210c",
   "metadata": {},
   "outputs": [],
   "source": [
    "import pandas as pd\n",
    "import csv\n",
    "import nltk\n",
    "import numpy as np"
   ]
  },
  {
   "cell_type": "code",
   "execution_count": 39,
   "id": "e15c4147",
   "metadata": {},
   "outputs": [],
   "source": [
    "from nltk import ngrams"
   ]
  },
  {
   "cell_type": "code",
   "execution_count": 2,
   "id": "7a7564e6",
   "metadata": {},
   "outputs": [],
   "source": [
    "import string\n",
    "import nltk\n",
    "class tokenize:\n",
    "    def __init__(self):\n",
    "        pass\n",
    "    def word_tokenize(self,text):\n",
    "        self.text = text\n",
    "        import string\n",
    "        punctuations = list(string.punctuation)\n",
    "        # Add the Nepali purnabiram to the list of punctuations\n",
    "        punctuations.append(\"।\")\n",
    "        for punctuation in punctuations:\n",
    "            self.text = self.text.replace(punctuation, ' ')\n",
    "        self.text = self.text.strip().split()\n",
    "        return self.text\n",
    "    \n",
    "    def __str__(self):\n",
    "        return \"return the tokenized text removing the punctuations\""
   ]
  },
  {
   "cell_type": "code",
   "execution_count": 3,
   "id": "529674a9",
   "metadata": {},
   "outputs": [],
   "source": [
    "import snowballstemmer\n",
    "\n",
    "class stemming:\n",
    "    def __init__(self):\n",
    "        self.stemmer = snowballstemmer.NepaliStemmer()\n",
    "\n",
    "    def word_stemmer(self, tokens):\n",
    "        if isinstance(tokens, str):\n",
    "            tokens = tokens.split()\n",
    "        stemmed_tokens = [self.stemmer.stemWord(token) for token in tokens]\n",
    "        return stemmed_tokens\n",
    "\n",
    "    def __str__(self):\n",
    "        return \"stemming is done on Nepali words and returns the list of stemmed words.\"\n"
   ]
  },
  {
   "cell_type": "code",
   "execution_count": 70,
   "id": "396f9e9e",
   "metadata": {},
   "outputs": [],
   "source": [
    "class stopwords:\n",
    "    def __init__(self):\n",
    "        pass\n",
    "    \n",
    "    def stopword_removal(self,tokens):\n",
    "        self.tokens = tokens\n",
    "        f = open('stopwords_ne.txt','r',encoding='utf-8')\n",
    "        stopwords_list = f.read()\n",
    "        new_tokens = list() #new_tokens hold the list of words after removing stopwords\n",
    "        for token in self.tokens:\n",
    "            if token not in stopwords_list:\n",
    "                new_tokens.append(token)\n",
    "\n",
    "        return new_tokens\n",
    "\n",
    "    def __str__(self):\n",
    "        return \"returns the tokens after removing stopwords\""
   ]
  },
  {
   "cell_type": "code",
   "execution_count": 227,
   "id": "6a1dd22b",
   "metadata": {},
   "outputs": [],
   "source": [
    "text=\"एक व्यक्ति घोडामा बाहिर छ ।\"\n",
    "text2 = \"घोडामा सवार एकजना भाँचिएको हवाइजहाजमाथि हाम फाल्छन् ।\""
   ]
  },
  {
   "cell_type": "code",
   "execution_count": 228,
   "id": "3c29e5ce",
   "metadata": {},
   "outputs": [],
   "source": [
    " def preprocess(text):\n",
    "    tokenizer = tokenize()\n",
    "    stemmer=stemming()\n",
    "    stop_removal=stopwords()\n",
    "    tokens = tokenizer.word_tokenize(text)\n",
    "    stemmed_tokens = stemmer.word_stemmer(tokens)\n",
    "    removed_tokens=stop_remove.stopword_removal(stemmed_tokens)\n",
    "    return removed_tokens"
   ]
  },
  {
   "cell_type": "code",
   "execution_count": 229,
   "id": "9ef8e07f",
   "metadata": {},
   "outputs": [
    {
     "data": {
      "text/plain": [
       "['व्यक्ति', 'घोडा']"
      ]
     },
     "execution_count": 229,
     "metadata": {},
     "output_type": "execute_result"
    }
   ],
   "source": [
    "preprocess(text)"
   ]
  },
  {
   "cell_type": "code",
   "execution_count": 230,
   "id": "ebef7307",
   "metadata": {},
   "outputs": [
    {
     "data": {
      "text/plain": [
       "['घोडा', 'सवार', 'एकजना', 'भाँच', 'हवाइजहाज', 'फाल्']"
      ]
     },
     "execution_count": 230,
     "metadata": {},
     "output_type": "execute_result"
    }
   ],
   "source": [
    "preprocess(text2)"
   ]
  },
  {
   "cell_type": "code",
   "execution_count": 221,
   "id": "78f4782e",
   "metadata": {},
   "outputs": [
    {
     "name": "stdout",
     "output_type": "stream",
     "text": [
      "['पार्टी', 'संस्कृति', 'व्यवहार', 'अमेरि', 'संस्कृति', 'देखाउन', 'स्कूल', 'विशेष', 'कार्यक्रम', 'गरिरह']\n"
     ]
    }
   ],
   "source": [
    "print(removed_tokens)"
   ]
  },
  {
   "cell_type": "code",
   "execution_count": 184,
   "id": "2c6f17b0",
   "metadata": {},
   "outputs": [],
   "source": [
    "def n_grams(text,n):\n",
    "    tokens=list(preprocess(text))\n",
    "    grams = list(ngrams(tokens, n))\n",
    "    return grams "
   ]
  },
  {
   "cell_type": "code",
   "execution_count": 249,
   "id": "ffdfe50a",
   "metadata": {},
   "outputs": [],
   "source": [
    "def overlap_similarity(text1, text2,n):\n",
    "    grams1=n_grams(text1,n)\n",
    "    grams2=n_grams(text2,n)\n",
    "    # Convert the bigrams lists to sets\n",
    "    set1 = set(grams1)\n",
    "    set2 = set(grams2)\n",
    "    A = set(set1)\n",
    "    B = set(set2)\n",
    "    numerator = len(A.intersection(B))\n",
    "    min_len = min(len(A), len(B))\n",
    "    if min_len==0:\n",
    "        jaccard_similarity=0\n",
    "    else:\n",
    "        jaccard_similarity = numerator/min_len\n",
    "    return jaccard_similarity"
   ]
  },
  {
   "cell_type": "code",
   "execution_count": 193,
   "id": "8b892f69",
   "metadata": {},
   "outputs": [],
   "source": [
    "similarity_score1=overlap_similarity(text1,text2,1)\n",
    "similarity_score2=overlap_similarity(text1,text2,2)"
   ]
  },
  {
   "cell_type": "code",
   "execution_count": 194,
   "id": "2b52327c",
   "metadata": {},
   "outputs": [
    {
     "name": "stdout",
     "output_type": "stream",
     "text": [
      "1.0\n",
      "1.0\n"
     ]
    }
   ],
   "source": [
    "print(similarity_score1)\n",
    "print(similarity_score2)"
   ]
  },
  {
   "cell_type": "code",
   "execution_count": 195,
   "id": "509f40cc",
   "metadata": {},
   "outputs": [],
   "source": [
    "similarity_score=similarity_score1*0.4+similarity_score2*0.6"
   ]
  },
  {
   "cell_type": "code",
   "execution_count": 196,
   "id": "c81fe87f",
   "metadata": {},
   "outputs": [
    {
     "name": "stdout",
     "output_type": "stream",
     "text": [
      "1.0\n"
     ]
    }
   ],
   "source": [
    "print(similarity_score)"
   ]
  },
  {
   "cell_type": "code",
   "execution_count": 199,
   "id": "d17a0660",
   "metadata": {},
   "outputs": [],
   "source": [
    "text1=\"दुई गोरा महिला एक अर्कालाई अँगालो हाल्दै छन्।\"\n",
    "text2=\"दुई गोरा महिला एक अर्कालाई अँगालो हाल्दै छन्।\""
   ]
  },
  {
   "cell_type": "markdown",
   "id": "305b86ae",
   "metadata": {},
   "source": [
    "# Longest Common Sequence"
   ]
  },
  {
   "cell_type": "code",
   "execution_count": 202,
   "id": "81d88c0e",
   "metadata": {},
   "outputs": [],
   "source": [
    "def generate_ngrams(seq, n):\n",
    "    \"\"\"Generate a list of n-grams from a sequence.\"\"\"\n",
    "    return [seq[i:i+n] for i in range(len(seq)-n+1)]"
   ]
  },
  {
   "cell_type": "code",
   "execution_count": 203,
   "id": "60004138",
   "metadata": {},
   "outputs": [],
   "source": [
    "def find_longest_common_sequence(seq1, seq2, max_n):\n",
    "    \"\"\"Find the longest common sequence of words between two sequences using n-grams.\"\"\"\n",
    "    words1 = seq1.split()\n",
    "    words2 = seq2.split()\n",
    "    n = max_n\n",
    "    while n > 0:\n",
    "        ngrams1 = generate_ngrams(words1, n)\n",
    "        ngrams2 = generate_ngrams(words2, n)\n",
    "        m = [[0] * (len(ngrams2)+1) for _ in range(len(ngrams1)+1)]\n",
    "        for i in range(1, len(ngrams1)+1):\n",
    "            for j in range(1, len(ngrams2)+1):\n",
    "                if ngrams1[i-1] == ngrams2[j-1]:\n",
    "                    m[i][j] = m[i-1][j-1] + 1\n",
    "                else:\n",
    "                    m[i][j] = max(m[i-1][j], m[i][j-1])\n",
    "        lcs_length = m[-1][-1]\n",
    "        if lcs_length > 0:\n",
    "            lcs = []\n",
    "            i, j = len(ngrams1), len(ngrams2)\n",
    "            while lcs_length > 0:\n",
    "                if ngrams1[i-1] == ngrams2[j-1]:\n",
    "                    lcs.append(ngrams1[i-1])\n",
    "                    i -= 1\n",
    "                    j -= 1\n",
    "                    lcs_length -= 1\n",
    "                elif m[i-1][j] > m[i][j-1]:\n",
    "                    i -= 1\n",
    "                else:\n",
    "                    j -= 1\n",
    "            lcs.reverse()\n",
    "            lcs_words = [lcs[0]]\n",
    "            for i in range(1, len(lcs)):\n",
    "                overlap = n - 1\n",
    "                while overlap >= 0:\n",
    "                    if lcs[i-1][n-overlap:] == lcs[i][:overlap]:\n",
    "                        break\n",
    "                    overlap -= 1\n",
    "                lcs_words.append(lcs[i][overlap:])\n",
    "            return lcs_words\n",
    "        n -= 1\n",
    "    return []\n"
   ]
  },
  {
   "cell_type": "code",
   "execution_count": 233,
   "id": "5a062ca0",
   "metadata": {},
   "outputs": [
    {
     "name": "stdout",
     "output_type": "stream",
     "text": [
      "5\n",
      "[['घोडामा']]\n"
     ]
    }
   ],
   "source": [
    "text1=\"एक व्यक्ति घोडामा बाहिर छ।\"\n",
    "text2 = \"घोडामा सवार एकजना भाँचिएको हवाइजहाजमाथि हाम फाल्छन्।\"\n",
    "words = text1.split()\n",
    "n = len(words)\n",
    "print(n)\n",
    "lcs = find_longest_common_sequence(text1, text2,n)\n",
    "print(lcs)"
   ]
  },
  {
   "cell_type": "markdown",
   "id": "d26940c1",
   "metadata": {},
   "source": [
    "# exporting to csv"
   ]
  },
  {
   "cell_type": "code",
   "execution_count": 246,
   "id": "a3f812ff",
   "metadata": {},
   "outputs": [
    {
     "data": {
      "text/html": [
       "<div>\n",
       "<style scoped>\n",
       "    .dataframe tbody tr th:only-of-type {\n",
       "        vertical-align: middle;\n",
       "    }\n",
       "\n",
       "    .dataframe tbody tr th {\n",
       "        vertical-align: top;\n",
       "    }\n",
       "\n",
       "    .dataframe thead th {\n",
       "        text-align: right;\n",
       "    }\n",
       "</style>\n",
       "<table border=\"1\" class=\"dataframe\">\n",
       "  <thead>\n",
       "    <tr style=\"text-align: right;\">\n",
       "      <th></th>\n",
       "      <th>Column1</th>\n",
       "      <th>Column2</th>\n",
       "      <th>Column 3</th>\n",
       "    </tr>\n",
       "  </thead>\n",
       "  <tbody>\n",
       "    <tr>\n",
       "      <th>0</th>\n",
       "      <td>घोडामा सवार एकजना भाँचिएको हवाइजहाजमाथि हाम फा...</td>\n",
       "      <td>एक व्यक्ति डिनरमा छ, ओमलेट अर्डर गर्दै।</td>\n",
       "      <td>0</td>\n",
       "    </tr>\n",
       "    <tr>\n",
       "      <th>1</th>\n",
       "      <td>घोडामा सवार एकजना भाँचिएको हवाइजहाजमाथि हाम फा...</td>\n",
       "      <td>एक व्यक्ति घोडामा, बाहिर छ।</td>\n",
       "      <td>1</td>\n",
       "    </tr>\n",
       "    <tr>\n",
       "      <th>2</th>\n",
       "      <td>बच्चाहरू मुस्कुराउँदै र क्यामेरामा हात हल्लाउँदै</td>\n",
       "      <td>बच्चाहरु उपस्थित छन्</td>\n",
       "      <td>1</td>\n",
       "    </tr>\n",
       "    <tr>\n",
       "      <th>3</th>\n",
       "      <td>बच्चाहरू मुस्कुराउँदै र क्यामेरामा हात हल्लाउँदै</td>\n",
       "      <td>केटाकेटीहरू निहुरिरहेका छन्</td>\n",
       "      <td>0</td>\n",
       "    </tr>\n",
       "    <tr>\n",
       "      <th>4</th>\n",
       "      <td>एउटा केटा रातो पुलको बीचमा स्केटबोर्डमा हाम फा...</td>\n",
       "      <td>केटा फुटपाथ तल स्केट गर्दै।</td>\n",
       "      <td>0</td>\n",
       "    </tr>\n",
       "    <tr>\n",
       "      <th>5</th>\n",
       "      <td>एउटा केटा रातो पुलको बीचमा स्केटबोर्डमा हाम फा...</td>\n",
       "      <td>केटाले स्केटबोर्डिङ ट्रिक गर्छ।</td>\n",
       "      <td>1</td>\n",
       "    </tr>\n",
       "    <tr>\n",
       "      <th>6</th>\n",
       "      <td>एक वृद्ध मानिस कफी पसलको सानो टेबलमा सुन्तलाको...</td>\n",
       "      <td>एउटा केटा बर्गर पल्टाउँछ।</td>\n",
       "      <td>0</td>\n",
       "    </tr>\n",
       "    <tr>\n",
       "      <th>7</th>\n",
       "      <td>दुई गोरा महिला एक अर्कालाई अँगालो हाल्दै छन्।</td>\n",
       "      <td>महिलाहरु सुतिरहेका छन् ।</td>\n",
       "      <td>0</td>\n",
       "    </tr>\n",
       "    <tr>\n",
       "      <th>8</th>\n",
       "      <td>दुई गोरा महिला एक अर्कालाई अँगालो हाल्दै छन्।</td>\n",
       "      <td>त्यहाँ स्नेह देखाउने महिलाहरू छन्।</td>\n",
       "      <td>1</td>\n",
       "    </tr>\n",
       "    <tr>\n",
       "      <th>9</th>\n",
       "      <td>रेस्टुरेन्ट सेटिङमा केही मानिसहरू, तिनीहरूमध्य...</td>\n",
       "      <td>विद्यालयमा मानिसहरु डेस्कमा बसिरहेका छन् ।</td>\n",
       "      <td>0</td>\n",
       "    </tr>\n",
       "  </tbody>\n",
       "</table>\n",
       "</div>"
      ],
      "text/plain": [
       "                                             Column1  \\\n",
       "0  घोडामा सवार एकजना भाँचिएको हवाइजहाजमाथि हाम फा...   \n",
       "1  घोडामा सवार एकजना भाँचिएको हवाइजहाजमाथि हाम फा...   \n",
       "2   बच्चाहरू मुस्कुराउँदै र क्यामेरामा हात हल्लाउँदै   \n",
       "3   बच्चाहरू मुस्कुराउँदै र क्यामेरामा हात हल्लाउँदै   \n",
       "4  एउटा केटा रातो पुलको बीचमा स्केटबोर्डमा हाम फा...   \n",
       "5  एउटा केटा रातो पुलको बीचमा स्केटबोर्डमा हाम फा...   \n",
       "6  एक वृद्ध मानिस कफी पसलको सानो टेबलमा सुन्तलाको...   \n",
       "7      दुई गोरा महिला एक अर्कालाई अँगालो हाल्दै छन्।   \n",
       "8      दुई गोरा महिला एक अर्कालाई अँगालो हाल्दै छन्।   \n",
       "9  रेस्टुरेन्ट सेटिङमा केही मानिसहरू, तिनीहरूमध्य...   \n",
       "\n",
       "                                      Column2  Column 3  \n",
       "0     एक व्यक्ति डिनरमा छ, ओमलेट अर्डर गर्दै।         0  \n",
       "1                 एक व्यक्ति घोडामा, बाहिर छ।         1  \n",
       "2                        बच्चाहरु उपस्थित छन्         1  \n",
       "3                 केटाकेटीहरू निहुरिरहेका छन्         0  \n",
       "4                 केटा फुटपाथ तल स्केट गर्दै।         0  \n",
       "5             केटाले स्केटबोर्डिङ ट्रिक गर्छ।         1  \n",
       "6                   एउटा केटा बर्गर पल्टाउँछ।         0  \n",
       "7                    महिलाहरु सुतिरहेका छन् ।         0  \n",
       "8          त्यहाँ स्नेह देखाउने महिलाहरू छन्।         1  \n",
       "9  विद्यालयमा मानिसहरु डेस्कमा बसिरहेका छन् ।         0  "
      ]
     },
     "execution_count": 246,
     "metadata": {},
     "output_type": "execute_result"
    }
   ],
   "source": [
    "import pandas as pd\n",
    "import numpy\n",
    "df = pd.read_csv('translated.csv')\n",
    "df.head(10)"
   ]
  },
  {
   "cell_type": "code",
   "execution_count": 251,
   "id": "aec0402c",
   "metadata": {},
   "outputs": [],
   "source": [
    "import pandas as pd\n",
    "\n",
    "# Load data from CSV file into a dataframe\n",
    "df = pd.read_csv('translated.csv')\n",
    "\n",
    "# Compute similarity scores for each row\n",
    "gram_similarity = []\n",
    "text = [] \n",
    "for i in range(len(df)):\n",
    "    text1 = df['Column1'][i]\n",
    "    text2 = df['Column2'][i]\n",
    "    similarity_score = overlap_similarity(text1, text2, 2)\n",
    "    gram_similarity.append(similarity_score) \n",
    "\n",
    "#Add similarity scores as a new column to the dataframe\n",
    "df['gram_similarity'] = gram_similarity\n",
    "\n",
    "\n",
    "# Write the updated dataframe to a new CSV file\n",
    "df.to_csv('gram_similarity.csv', index=False)\n"
   ]
  },
  {
   "cell_type": "code",
   "execution_count": 239,
   "id": "bae7c3db",
   "metadata": {},
   "outputs": [
    {
     "data": {
      "text/html": [
       "<div>\n",
       "<style scoped>\n",
       "    .dataframe tbody tr th:only-of-type {\n",
       "        vertical-align: middle;\n",
       "    }\n",
       "\n",
       "    .dataframe tbody tr th {\n",
       "        vertical-align: top;\n",
       "    }\n",
       "\n",
       "    .dataframe thead th {\n",
       "        text-align: right;\n",
       "    }\n",
       "</style>\n",
       "<table border=\"1\" class=\"dataframe\">\n",
       "  <thead>\n",
       "    <tr style=\"text-align: right;\">\n",
       "      <th></th>\n",
       "      <th>Column1</th>\n",
       "      <th>Column2</th>\n",
       "      <th>Column 3</th>\n",
       "      <th>gram_similarity</th>\n",
       "      <th>lcs</th>\n",
       "    </tr>\n",
       "  </thead>\n",
       "  <tbody>\n",
       "    <tr>\n",
       "      <th>0</th>\n",
       "      <td>घोडामा सवार एकजना भाँचिएको हवाइजहाजमाथि हाम फा...</td>\n",
       "      <td>एक व्यक्ति डिनरमा छ, ओमलेट अर्डर गर्दै।</td>\n",
       "      <td>0</td>\n",
       "      <td>0.0</td>\n",
       "      <td></td>\n",
       "    </tr>\n",
       "    <tr>\n",
       "      <th>1</th>\n",
       "      <td>घोडामा सवार एकजना भाँचिएको हवाइजहाजमाथि हाम फा...</td>\n",
       "      <td>एक व्यक्ति घोडामा, बाहिर छ।</td>\n",
       "      <td>1</td>\n",
       "      <td>0.0</td>\n",
       "      <td></td>\n",
       "    </tr>\n",
       "    <tr>\n",
       "      <th>2</th>\n",
       "      <td>बच्चाहरू मुस्कुराउँदै र क्यामेरामा हात हल्लाउँदै</td>\n",
       "      <td>बच्चाहरु उपस्थित छन्</td>\n",
       "      <td>1</td>\n",
       "      <td>0.0</td>\n",
       "      <td></td>\n",
       "    </tr>\n",
       "    <tr>\n",
       "      <th>3</th>\n",
       "      <td>बच्चाहरू मुस्कुराउँदै र क्यामेरामा हात हल्लाउँदै</td>\n",
       "      <td>केटाकेटीहरू निहुरिरहेका छन्</td>\n",
       "      <td>0</td>\n",
       "      <td>0.0</td>\n",
       "      <td></td>\n",
       "    </tr>\n",
       "    <tr>\n",
       "      <th>4</th>\n",
       "      <td>एउटा केटा रातो पुलको बीचमा स्केटबोर्डमा हाम फा...</td>\n",
       "      <td>केटा फुटपाथ तल स्केट गर्दै।</td>\n",
       "      <td>0</td>\n",
       "      <td>0.0</td>\n",
       "      <td>केटा</td>\n",
       "    </tr>\n",
       "  </tbody>\n",
       "</table>\n",
       "</div>"
      ],
      "text/plain": [
       "                                             Column1  \\\n",
       "0  घोडामा सवार एकजना भाँचिएको हवाइजहाजमाथि हाम फा...   \n",
       "1  घोडामा सवार एकजना भाँचिएको हवाइजहाजमाथि हाम फा...   \n",
       "2   बच्चाहरू मुस्कुराउँदै र क्यामेरामा हात हल्लाउँदै   \n",
       "3   बच्चाहरू मुस्कुराउँदै र क्यामेरामा हात हल्लाउँदै   \n",
       "4  एउटा केटा रातो पुलको बीचमा स्केटबोर्डमा हाम फा...   \n",
       "\n",
       "                                   Column2  Column 3  gram_similarity   lcs  \n",
       "0  एक व्यक्ति डिनरमा छ, ओमलेट अर्डर गर्दै।         0              0.0        \n",
       "1              एक व्यक्ति घोडामा, बाहिर छ।         1              0.0        \n",
       "2                     बच्चाहरु उपस्थित छन्         1              0.0        \n",
       "3              केटाकेटीहरू निहुरिरहेका छन्         0              0.0        \n",
       "4              केटा फुटपाथ तल स्केट गर्दै।         0              0.0  केटा  "
      ]
     },
     "execution_count": 239,
     "metadata": {},
     "output_type": "execute_result"
    }
   ],
   "source": [
    "df.head()"
   ]
  },
  {
   "cell_type": "code",
   "execution_count": null,
   "id": "37ae0113",
   "metadata": {},
   "outputs": [],
   "source": []
  }
 ],
 "metadata": {
  "kernelspec": {
   "display_name": "Python 3 (ipykernel)",
   "language": "python",
   "name": "python3"
  },
  "language_info": {
   "codemirror_mode": {
    "name": "ipython",
    "version": 3
   },
   "file_extension": ".py",
   "mimetype": "text/x-python",
   "name": "python",
   "nbconvert_exporter": "python",
   "pygments_lexer": "ipython3",
   "version": "3.9.18"
  }
 },
 "nbformat": 4,
 "nbformat_minor": 5
}
